{
 "cells": [
  {
   "cell_type": "code",
   "execution_count": 28,
   "id": "9409261c-02ed-4cc1-b8c6-271f4f046c63",
   "metadata": {},
   "outputs": [],
   "source": [
    "import requests\n",
    "from bs4 import BeautifulSoup\n",
    "from urllib.request import urlopen as uReq\n",
    "import os"
   ]
  },
  {
   "cell_type": "code",
   "execution_count": 29,
   "id": "cb19810d-b35d-4271-8682-dd06821315c7",
   "metadata": {},
   "outputs": [],
   "source": [
    "save_dir = \"images_new/\"\n",
    "if not os.path.exists(save_dir):\n",
    "    os.makedirs(save_dir)"
   ]
  },
  {
   "cell_type": "code",
   "execution_count": 30,
   "id": "7ebf0a43-5375-4651-921b-cc1c2d180e88",
   "metadata": {},
   "outputs": [],
   "source": [
    "url='https://www.google.com/search?q={query}car+images+hd&sca_esv=578990385&tbm=isch&sxsrf=AM9HkKlkoC3IRBwann7p-c1EQYqzNuEFPg%3A1698968212502&source=hp&biw=1366&bih=611&ei=lDJEZZ3mHLXn1e8PvqyDsAw&iflsig=AO6bgOgAAAAAZURApMf-J7xKPvUOH9uDIoJHQW13hUD-&ved=0ahUKEwidgKjmvaaCAxW1c_UHHT7WAMYQ4dUDCAc&uact=5&oq=car+images+hd&gs_lp=EgNpbWciDWNhciBpbWFnZXMgaGQyCBAAGIAEGLEDMgUQABiABDIFEAAYgAQyBRAAGIAEMgUQABiABDIFEAAYgAQyBRAAGIAEMgUQABiABDIFEAAYgAQyBRAAGIAESL9hUKsnWOddcAF4AJABAJgBrgKgAZ4SqgEHMC45LjMuMbgBA8gBAPgBAYoCC2d3cy13aXotaW1nqAIKwgIHECMY6gIYJ8ICBBAjGCfCAggQABixAxiDAQ&sclient=img'"
   ]
  },
  {
   "cell_type": "code",
   "execution_count": 31,
   "id": "6d97dede-e276-4d57-b5ac-756fdbc7ca9e",
   "metadata": {},
   "outputs": [],
   "source": [
    "query = \"car images hd\"\n",
    "response = requests.get(f\"https://www.google.com/search?q={query}car+images+hd&sca_esv=578990385&tbm=isch&sxsrf=AM9HkKlkoC3IRBwann7p-c1EQYqzNuEFPg%3A1698968212502&source=hp&biw=1366&bih=611&ei=lDJEZZ3mHLXn1e8PvqyDsAw&iflsig=AO6bgOgAAAAAZURApMf-J7xKPvUOH9uDIoJHQW13hUD-&ved=0ahUKEwidgKjmvaaCAxW1c_UHHT7WAMYQ4dUDCAc&uact=5&oq=car+images+hd&gs_lp=EgNpbWciDWNhciBpbWFnZXMgaGQyCBAAGIAEGLEDMgUQABiABDIFEAAYgAQyBRAAGIAEMgUQABiABDIFEAAYgAQyBRAAGIAEMgUQABiABDIFEAAYgAQyBRAAGIAESL9hUKsnWOddcAF4AJABAJgBrgKgAZ4SqgEHMC45LjMuMbgBA8gBAPgBAYoCC2d3cy13aXotaW1nqAIKwgIHECMY6gIYJ8ICBBAjGCfCAggQABixAxiDAQ&sclient=img\")"
   ]
  },
  {
   "cell_type": "code",
   "execution_count": 32,
   "id": "bdfbb231-2f3f-45fe-b3d9-3487f24de3a4",
   "metadata": {},
   "outputs": [
    {
     "data": {
      "text/plain": [
       "<Response [200]>"
      ]
     },
     "execution_count": 32,
     "metadata": {},
     "output_type": "execute_result"
    }
   ],
   "source": [
    "response"
   ]
  },
  {
   "cell_type": "code",
   "execution_count": 33,
   "id": "05386efe-4111-40fd-9185-ecf50ad8386b",
   "metadata": {},
   "outputs": [],
   "source": [
    "soup = BeautifulSoup(response.content,'html.parser')"
   ]
  },
  {
   "cell_type": "code",
   "execution_count": 47,
   "id": "ea429dba-f418-488d-a7d2-c0e5d1e2f5d9",
   "metadata": {},
   "outputs": [],
   "source": [
    "images_tages = soup.find_all(\"img\")"
   ]
  },
  {
   "cell_type": "code",
   "execution_count": 48,
   "id": "e5af733e-9f9c-4dfb-8f52-14bf24abbafe",
   "metadata": {},
   "outputs": [
    {
     "data": {
      "text/plain": [
       "21"
      ]
     },
     "execution_count": 48,
     "metadata": {},
     "output_type": "execute_result"
    }
   ],
   "source": [
    "len(images_tages)"
   ]
  },
  {
   "cell_type": "code",
   "execution_count": 49,
   "id": "47db1311-6d61-4cf3-9b3a-3581e11bdb7b",
   "metadata": {},
   "outputs": [
    {
     "data": {
      "text/plain": [
       "[<img alt=\"Google\" class=\"kgJEQe\" src=\"/images/branding/searchlogo/1x/googlelogo_desk_heirloom_color_150x55dp.gif\"/>,\n",
       " <img alt=\"\" class=\"DS1iW\" src=\"https://encrypted-tbn0.gstatic.com/images?q=tbn:ANd9GcTpLkQ52DmklpaxjD4-rtrEjN2ZcaBqqC7kBeLsLAButyG7TROsBlenQ6rWrA&amp;s\"/>,\n",
       " <img alt=\"\" class=\"DS1iW\" src=\"https://encrypted-tbn0.gstatic.com/images?q=tbn:ANd9GcQNDukHzGpqtiFkTbqjdKaYOjkWMY9Z_xlEjVbQMBYsXdjrWT8vZ6wEASL2_qs&amp;s\"/>,\n",
       " <img alt=\"\" class=\"DS1iW\" src=\"https://encrypted-tbn0.gstatic.com/images?q=tbn:ANd9GcRsdaK498wJdIpJMphDFwql3yu_vvmjQLZSzFB9fJqZFN8aBps1utfrwtWAg3o&amp;s\"/>,\n",
       " <img alt=\"\" class=\"DS1iW\" src=\"https://encrypted-tbn0.gstatic.com/images?q=tbn:ANd9GcSNAquo-qGOl3AwUdLp6c7MKBXZyfBTMir0_H5MiyVLlL_HbFdIKAimMniI4Q&amp;s\"/>,\n",
       " <img alt=\"\" class=\"DS1iW\" src=\"https://encrypted-tbn0.gstatic.com/images?q=tbn:ANd9GcRgxsMOUPpkAPFCRpbQOxOCHB2O5xjZvRO8lkprLskH-uXUNIBUXoDb-Ht3l98&amp;s\"/>,\n",
       " <img alt=\"\" class=\"DS1iW\" src=\"https://encrypted-tbn0.gstatic.com/images?q=tbn:ANd9GcR6D-Bqf8ktkNm5HjrGi8CXd31tXB5aRBaejMApsZ0er0CWvu5pjuR6KaTbuw&amp;s\"/>,\n",
       " <img alt=\"\" class=\"DS1iW\" src=\"https://encrypted-tbn0.gstatic.com/images?q=tbn:ANd9GcQBnMMqBEYsbd4eMHfEyZKVc7qExKUBMfZzugBk--fMEltphfMzXHZwMWvAH4s&amp;s\"/>,\n",
       " <img alt=\"\" class=\"DS1iW\" src=\"https://encrypted-tbn0.gstatic.com/images?q=tbn:ANd9GcRTqKc51brR5UHLqacWypbGn6RunQ3k35D2MeX2qfiIZnOiG7yzKJQ3z5og1-E&amp;s\"/>,\n",
       " <img alt=\"\" class=\"DS1iW\" src=\"https://encrypted-tbn0.gstatic.com/images?q=tbn:ANd9GcQxV_IrED0himj-iGVO10Cdv5ygv_5G0UGNbd4RRDoIZG_GCRRgV641pHYXyA&amp;s\"/>,\n",
       " <img alt=\"\" class=\"DS1iW\" src=\"https://encrypted-tbn0.gstatic.com/images?q=tbn:ANd9GcTPTWCVQNy37n6fp6IjiLs9s5KjyzZ89GlU7mGPqWMsDBG78TE7Cm6JbVLd7g&amp;s\"/>,\n",
       " <img alt=\"\" class=\"DS1iW\" src=\"https://encrypted-tbn0.gstatic.com/images?q=tbn:ANd9GcTkmpuPFp6OMOMzjDLC4namkhJL7zMn_GlscM-2HrB3YtB1MzMg3ro6rvSTWTs&amp;s\"/>,\n",
       " <img alt=\"\" class=\"DS1iW\" src=\"https://encrypted-tbn0.gstatic.com/images?q=tbn:ANd9GcSYJuVafVbOEKcwH05JkWGwnDWc-iltHX5jbJHLwJZ_B10L0qY_KshwVGfpqQ&amp;s\"/>,\n",
       " <img alt=\"\" class=\"DS1iW\" src=\"https://encrypted-tbn0.gstatic.com/images?q=tbn:ANd9GcSLwWRJVC9vjMR1IzltFKDWxSJdVtHfNo4RkSN7IsvboK-5Qv5VMB4hzSn9QXM&amp;s\"/>,\n",
       " <img alt=\"\" class=\"DS1iW\" src=\"https://encrypted-tbn0.gstatic.com/images?q=tbn:ANd9GcTASTIFevxCIivScdlMFGycmcgdCP9lxLaWpqq4-yhAfz_y3ywiPlomTtB3l_E&amp;s\"/>,\n",
       " <img alt=\"\" class=\"DS1iW\" src=\"https://encrypted-tbn0.gstatic.com/images?q=tbn:ANd9GcS8eC8YYDrPqpyxhg134PnNOQ6HE9VuSaays-2BATmIScEOWf9gh40SfBSo5A&amp;s\"/>,\n",
       " <img alt=\"\" class=\"DS1iW\" src=\"https://encrypted-tbn0.gstatic.com/images?q=tbn:ANd9GcROi48617vwj-zk10iskQVKqm3YxyDejj8ta0uLh56iOFbXtB04gjPQSFlGTA&amp;s\"/>,\n",
       " <img alt=\"\" class=\"DS1iW\" src=\"https://encrypted-tbn0.gstatic.com/images?q=tbn:ANd9GcTK2jg3s6aiSMSxl5eWOb437ktmUNeQQC3scxjx3ZpZ1SK43VlU6ydNNiIIAzk&amp;s\"/>,\n",
       " <img alt=\"\" class=\"DS1iW\" src=\"https://encrypted-tbn0.gstatic.com/images?q=tbn:ANd9GcQeA6IHij5GmExaday7RbBtKp6YQeV3fVoM-TyyRHvzFWCcYvDwIPW4nQV38Vk&amp;s\"/>,\n",
       " <img alt=\"\" class=\"DS1iW\" src=\"https://encrypted-tbn0.gstatic.com/images?q=tbn:ANd9GcTagaJ_CUY1TOQQ-aY7FXz3GFUtQB3HSJmAfnrL-1W78OdMSajknu7PdAT_bdc&amp;s\"/>,\n",
       " <img alt=\"\" class=\"DS1iW\" src=\"https://encrypted-tbn0.gstatic.com/images?q=tbn:ANd9GcTpWsIi-gyrdie_bZJOjIafPiGHmeYV6xicisAryaDmXAMLoqwaSKp_-aG3lA&amp;s\"/>]"
      ]
     },
     "execution_count": 49,
     "metadata": {},
     "output_type": "execute_result"
    }
   ],
   "source": [
    "images_tages"
   ]
  },
  {
   "cell_type": "code",
   "execution_count": 50,
   "id": "b8d1d887-72a8-4c7d-8fba-d20a8943315b",
   "metadata": {},
   "outputs": [],
   "source": [
    "del images_tages[0]"
   ]
  },
  {
   "cell_type": "code",
   "execution_count": 51,
   "id": "243a4923-629f-489e-b6bc-11b5c7b2dfbe",
   "metadata": {},
   "outputs": [
    {
     "data": {
      "text/plain": [
       "[<img alt=\"\" class=\"DS1iW\" src=\"https://encrypted-tbn0.gstatic.com/images?q=tbn:ANd9GcTpLkQ52DmklpaxjD4-rtrEjN2ZcaBqqC7kBeLsLAButyG7TROsBlenQ6rWrA&amp;s\"/>,\n",
       " <img alt=\"\" class=\"DS1iW\" src=\"https://encrypted-tbn0.gstatic.com/images?q=tbn:ANd9GcQNDukHzGpqtiFkTbqjdKaYOjkWMY9Z_xlEjVbQMBYsXdjrWT8vZ6wEASL2_qs&amp;s\"/>,\n",
       " <img alt=\"\" class=\"DS1iW\" src=\"https://encrypted-tbn0.gstatic.com/images?q=tbn:ANd9GcRsdaK498wJdIpJMphDFwql3yu_vvmjQLZSzFB9fJqZFN8aBps1utfrwtWAg3o&amp;s\"/>,\n",
       " <img alt=\"\" class=\"DS1iW\" src=\"https://encrypted-tbn0.gstatic.com/images?q=tbn:ANd9GcSNAquo-qGOl3AwUdLp6c7MKBXZyfBTMir0_H5MiyVLlL_HbFdIKAimMniI4Q&amp;s\"/>,\n",
       " <img alt=\"\" class=\"DS1iW\" src=\"https://encrypted-tbn0.gstatic.com/images?q=tbn:ANd9GcRgxsMOUPpkAPFCRpbQOxOCHB2O5xjZvRO8lkprLskH-uXUNIBUXoDb-Ht3l98&amp;s\"/>,\n",
       " <img alt=\"\" class=\"DS1iW\" src=\"https://encrypted-tbn0.gstatic.com/images?q=tbn:ANd9GcR6D-Bqf8ktkNm5HjrGi8CXd31tXB5aRBaejMApsZ0er0CWvu5pjuR6KaTbuw&amp;s\"/>,\n",
       " <img alt=\"\" class=\"DS1iW\" src=\"https://encrypted-tbn0.gstatic.com/images?q=tbn:ANd9GcQBnMMqBEYsbd4eMHfEyZKVc7qExKUBMfZzugBk--fMEltphfMzXHZwMWvAH4s&amp;s\"/>,\n",
       " <img alt=\"\" class=\"DS1iW\" src=\"https://encrypted-tbn0.gstatic.com/images?q=tbn:ANd9GcRTqKc51brR5UHLqacWypbGn6RunQ3k35D2MeX2qfiIZnOiG7yzKJQ3z5og1-E&amp;s\"/>,\n",
       " <img alt=\"\" class=\"DS1iW\" src=\"https://encrypted-tbn0.gstatic.com/images?q=tbn:ANd9GcQxV_IrED0himj-iGVO10Cdv5ygv_5G0UGNbd4RRDoIZG_GCRRgV641pHYXyA&amp;s\"/>,\n",
       " <img alt=\"\" class=\"DS1iW\" src=\"https://encrypted-tbn0.gstatic.com/images?q=tbn:ANd9GcTPTWCVQNy37n6fp6IjiLs9s5KjyzZ89GlU7mGPqWMsDBG78TE7Cm6JbVLd7g&amp;s\"/>,\n",
       " <img alt=\"\" class=\"DS1iW\" src=\"https://encrypted-tbn0.gstatic.com/images?q=tbn:ANd9GcTkmpuPFp6OMOMzjDLC4namkhJL7zMn_GlscM-2HrB3YtB1MzMg3ro6rvSTWTs&amp;s\"/>,\n",
       " <img alt=\"\" class=\"DS1iW\" src=\"https://encrypted-tbn0.gstatic.com/images?q=tbn:ANd9GcSYJuVafVbOEKcwH05JkWGwnDWc-iltHX5jbJHLwJZ_B10L0qY_KshwVGfpqQ&amp;s\"/>,\n",
       " <img alt=\"\" class=\"DS1iW\" src=\"https://encrypted-tbn0.gstatic.com/images?q=tbn:ANd9GcSLwWRJVC9vjMR1IzltFKDWxSJdVtHfNo4RkSN7IsvboK-5Qv5VMB4hzSn9QXM&amp;s\"/>,\n",
       " <img alt=\"\" class=\"DS1iW\" src=\"https://encrypted-tbn0.gstatic.com/images?q=tbn:ANd9GcTASTIFevxCIivScdlMFGycmcgdCP9lxLaWpqq4-yhAfz_y3ywiPlomTtB3l_E&amp;s\"/>,\n",
       " <img alt=\"\" class=\"DS1iW\" src=\"https://encrypted-tbn0.gstatic.com/images?q=tbn:ANd9GcS8eC8YYDrPqpyxhg134PnNOQ6HE9VuSaays-2BATmIScEOWf9gh40SfBSo5A&amp;s\"/>,\n",
       " <img alt=\"\" class=\"DS1iW\" src=\"https://encrypted-tbn0.gstatic.com/images?q=tbn:ANd9GcROi48617vwj-zk10iskQVKqm3YxyDejj8ta0uLh56iOFbXtB04gjPQSFlGTA&amp;s\"/>,\n",
       " <img alt=\"\" class=\"DS1iW\" src=\"https://encrypted-tbn0.gstatic.com/images?q=tbn:ANd9GcTK2jg3s6aiSMSxl5eWOb437ktmUNeQQC3scxjx3ZpZ1SK43VlU6ydNNiIIAzk&amp;s\"/>,\n",
       " <img alt=\"\" class=\"DS1iW\" src=\"https://encrypted-tbn0.gstatic.com/images?q=tbn:ANd9GcQeA6IHij5GmExaday7RbBtKp6YQeV3fVoM-TyyRHvzFWCcYvDwIPW4nQV38Vk&amp;s\"/>,\n",
       " <img alt=\"\" class=\"DS1iW\" src=\"https://encrypted-tbn0.gstatic.com/images?q=tbn:ANd9GcTagaJ_CUY1TOQQ-aY7FXz3GFUtQB3HSJmAfnrL-1W78OdMSajknu7PdAT_bdc&amp;s\"/>,\n",
       " <img alt=\"\" class=\"DS1iW\" src=\"https://encrypted-tbn0.gstatic.com/images?q=tbn:ANd9GcTpWsIi-gyrdie_bZJOjIafPiGHmeYV6xicisAryaDmXAMLoqwaSKp_-aG3lA&amp;s\"/>]"
      ]
     },
     "execution_count": 51,
     "metadata": {},
     "output_type": "execute_result"
    }
   ],
   "source": [
    "images_tages"
   ]
  },
  {
   "cell_type": "code",
   "execution_count": 52,
   "id": "9682276f-4581-4ce2-8042-bdcd1970a7ee",
   "metadata": {},
   "outputs": [],
   "source": [
    "for i in images_tages:\n",
    "    images_url = i['src']\n",
    "    image_data = requests.get(images_url).content\n",
    "    with open(os.path.join(save_dir,f\"{query}_{images_tages.index(i)}.jpg\"),\"wb\") as f:\n",
    "        f.write(image_data)"
   ]
  },
  {
   "cell_type": "code",
   "execution_count": null,
   "id": "529dfbe3-0dae-4463-b29b-85bae2873879",
   "metadata": {},
   "outputs": [],
   "source": []
  }
 ],
 "metadata": {
  "kernelspec": {
   "display_name": "Python 3 (ipykernel)",
   "language": "python",
   "name": "python3"
  },
  "language_info": {
   "codemirror_mode": {
    "name": "ipython",
    "version": 3
   },
   "file_extension": ".py",
   "mimetype": "text/x-python",
   "name": "python",
   "nbconvert_exporter": "python",
   "pygments_lexer": "ipython3",
   "version": "3.10.8"
  }
 },
 "nbformat": 4,
 "nbformat_minor": 5
}
